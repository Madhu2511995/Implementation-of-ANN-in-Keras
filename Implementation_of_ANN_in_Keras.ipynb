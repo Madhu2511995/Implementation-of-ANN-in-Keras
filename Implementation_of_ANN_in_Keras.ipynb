{
  "nbformat": 4,
  "nbformat_minor": 0,
  "metadata": {
    "colab": {
      "provenance": [],
      "gpuType": "T4"
    },
    "kernelspec": {
      "name": "python3",
      "display_name": "Python 3"
    },
    "language_info": {
      "name": "python"
    },
    "accelerator": "GPU"
  },
  "cells": [
    {
      "cell_type": "markdown",
      "source": [
        "\n",
        "**Q1. Install and load the latest versions of TensorFlow and Keras. Print their versions.**\n",
        "\n",
        "\n",
        "\n"
      ],
      "metadata": {
        "id": "VQrbQRcBlg0f"
      }
    },
    {
      "cell_type": "code",
      "source": [
        "import tensorflow as tf\n",
        "import keras\n",
        "print(\"TensorFlow version:\", tf.__version__)\n",
        "print(\"Keras version:\",keras.__version__)\n"
      ],
      "metadata": {
        "id": "jy3moCPWmO_i",
        "colab": {
          "base_uri": "https://localhost:8080/"
        },
        "outputId": "57a9612d-4dfd-4d6a-8cbb-a1db068292f7"
      },
      "execution_count": 1,
      "outputs": [
        {
          "output_type": "stream",
          "name": "stdout",
          "text": [
            "TensorFlow version: 2.15.0\n",
            "Keras version: 2.15.0\n"
          ]
        }
      ]
    },
    {
      "cell_type": "markdown",
      "source": [
        "**Q2. Load the Wine Quality dataset and explore its dimensions.**\n",
        "https://www.kaggle.com/datasets/nareshbhat/wine-quality-binary-classification"
      ],
      "metadata": {
        "id": "TyMOxWgAmNMm"
      }
    },
    {
      "cell_type": "code",
      "source": [
        "import pandas as pd\n",
        "wine_data=pd.read_csv(\"/content/drive/MyDrive/Data Set/wine.csv\")"
      ],
      "metadata": {
        "id": "EL9RIOi-mTwF"
      },
      "execution_count": 21,
      "outputs": []
    },
    {
      "cell_type": "code",
      "source": [
        "wine_data.shape"
      ],
      "metadata": {
        "id": "Y9wu9zSXmT6N",
        "colab": {
          "base_uri": "https://localhost:8080/"
        },
        "outputId": "8158eab1-f676-4b89-925f-7416e5bcdcae"
      },
      "execution_count": 22,
      "outputs": [
        {
          "output_type": "execute_result",
          "data": {
            "text/plain": [
              "(1599, 12)"
            ]
          },
          "metadata": {},
          "execution_count": 22
        }
      ]
    },
    {
      "cell_type": "markdown",
      "source": [
        "**Q3. Check for null values, identify categorical variables, and encode them.**\n"
      ],
      "metadata": {
        "id": "vgj2Ewz1mR8o"
      }
    },
    {
      "cell_type": "code",
      "source": [
        "wine_data.isnull().sum()"
      ],
      "metadata": {
        "id": "6NULWAksmguT",
        "colab": {
          "base_uri": "https://localhost:8080/"
        },
        "outputId": "85b9a64c-33e8-4de6-dc39-4beacd2503e0"
      },
      "execution_count": 23,
      "outputs": [
        {
          "output_type": "execute_result",
          "data": {
            "text/plain": [
              "fixed acidity           0\n",
              "volatile acidity        0\n",
              "citric acid             0\n",
              "residual sugar          0\n",
              "chlorides               0\n",
              "free sulfur dioxide     0\n",
              "total sulfur dioxide    0\n",
              "density                 0\n",
              "pH                      0\n",
              "sulphates               0\n",
              "alcohol                 0\n",
              "quality                 0\n",
              "dtype: int64"
            ]
          },
          "metadata": {},
          "execution_count": 23
        }
      ]
    },
    {
      "cell_type": "code",
      "source": [
        "wine_data.info()"
      ],
      "metadata": {
        "id": "U0wZf0owmg4l",
        "colab": {
          "base_uri": "https://localhost:8080/"
        },
        "outputId": "4add8436-6430-4f92-dcc1-90946d7d49a1"
      },
      "execution_count": 24,
      "outputs": [
        {
          "output_type": "stream",
          "name": "stdout",
          "text": [
            "<class 'pandas.core.frame.DataFrame'>\n",
            "RangeIndex: 1599 entries, 0 to 1598\n",
            "Data columns (total 12 columns):\n",
            " #   Column                Non-Null Count  Dtype  \n",
            "---  ------                --------------  -----  \n",
            " 0   fixed acidity         1599 non-null   float64\n",
            " 1   volatile acidity      1599 non-null   float64\n",
            " 2   citric acid           1599 non-null   float64\n",
            " 3   residual sugar        1599 non-null   float64\n",
            " 4   chlorides             1599 non-null   float64\n",
            " 5   free sulfur dioxide   1599 non-null   float64\n",
            " 6   total sulfur dioxide  1599 non-null   float64\n",
            " 7   density               1599 non-null   float64\n",
            " 8   pH                    1599 non-null   float64\n",
            " 9   sulphates             1599 non-null   float64\n",
            " 10  alcohol               1599 non-null   float64\n",
            " 11  quality               1599 non-null   object \n",
            "dtypes: float64(11), object(1)\n",
            "memory usage: 150.0+ KB\n"
          ]
        }
      ]
    },
    {
      "cell_type": "code",
      "source": [
        "wine_data['quality'].head()"
      ],
      "metadata": {
        "colab": {
          "base_uri": "https://localhost:8080/"
        },
        "id": "7CuB4vTdooFi",
        "outputId": "cc07c9d2-ae8b-4c40-a80f-c7e6c2652ffe"
      },
      "execution_count": 25,
      "outputs": [
        {
          "output_type": "execute_result",
          "data": {
            "text/plain": [
              "0     bad\n",
              "1     bad\n",
              "2     bad\n",
              "3    good\n",
              "4     bad\n",
              "Name: quality, dtype: object"
            ]
          },
          "metadata": {},
          "execution_count": 25
        }
      ]
    },
    {
      "cell_type": "code",
      "source": [
        "from sklearn.preprocessing import LabelEncoder\n",
        "lencode=LabelEncoder()"
      ],
      "metadata": {
        "id": "SBgbTnKKooHl"
      },
      "execution_count": 8,
      "outputs": []
    },
    {
      "cell_type": "code",
      "source": [
        "wine_data['quality']=lencode.fit_transform(wine_data['quality'])"
      ],
      "metadata": {
        "id": "n3pD2hPdooLX"
      },
      "execution_count": 26,
      "outputs": []
    },
    {
      "cell_type": "code",
      "source": [
        "wine_data['quality'].head()"
      ],
      "metadata": {
        "colab": {
          "base_uri": "https://localhost:8080/"
        },
        "id": "ZSRtDm3ro1wU",
        "outputId": "5f10277e-86d9-4137-fde5-bccd96114a29"
      },
      "execution_count": 27,
      "outputs": [
        {
          "output_type": "execute_result",
          "data": {
            "text/plain": [
              "0    0\n",
              "1    0\n",
              "2    0\n",
              "3    1\n",
              "4    0\n",
              "Name: quality, dtype: int64"
            ]
          },
          "metadata": {},
          "execution_count": 27
        }
      ]
    },
    {
      "cell_type": "code",
      "source": [
        "wine_data.info()"
      ],
      "metadata": {
        "colab": {
          "base_uri": "https://localhost:8080/"
        },
        "id": "1bsqhNZho11B",
        "outputId": "dca9e684-7609-46ab-8224-156431479386"
      },
      "execution_count": 28,
      "outputs": [
        {
          "output_type": "stream",
          "name": "stdout",
          "text": [
            "<class 'pandas.core.frame.DataFrame'>\n",
            "RangeIndex: 1599 entries, 0 to 1598\n",
            "Data columns (total 12 columns):\n",
            " #   Column                Non-Null Count  Dtype  \n",
            "---  ------                --------------  -----  \n",
            " 0   fixed acidity         1599 non-null   float64\n",
            " 1   volatile acidity      1599 non-null   float64\n",
            " 2   citric acid           1599 non-null   float64\n",
            " 3   residual sugar        1599 non-null   float64\n",
            " 4   chlorides             1599 non-null   float64\n",
            " 5   free sulfur dioxide   1599 non-null   float64\n",
            " 6   total sulfur dioxide  1599 non-null   float64\n",
            " 7   density               1599 non-null   float64\n",
            " 8   pH                    1599 non-null   float64\n",
            " 9   sulphates             1599 non-null   float64\n",
            " 10  alcohol               1599 non-null   float64\n",
            " 11  quality               1599 non-null   int64  \n",
            "dtypes: float64(11), int64(1)\n",
            "memory usage: 150.0 KB\n"
          ]
        }
      ]
    },
    {
      "cell_type": "markdown",
      "source": [
        "**Q4. Separate the features and target variables from the dataset.**\n"
      ],
      "metadata": {
        "id": "2kYwo4llmf8I"
      }
    },
    {
      "cell_type": "code",
      "source": [
        "X=wine_data.drop('quality',axis=1)\n",
        "y=wine_data['quality']"
      ],
      "metadata": {
        "id": "yjETTxe5mlVR"
      },
      "execution_count": 29,
      "outputs": []
    },
    {
      "cell_type": "code",
      "source": [
        "X.head()"
      ],
      "metadata": {
        "id": "e33DLQHnmlf_",
        "colab": {
          "base_uri": "https://localhost:8080/",
          "height": 223
        },
        "outputId": "31f2198c-968b-4f21-c900-0117692a8b0b"
      },
      "execution_count": 30,
      "outputs": [
        {
          "output_type": "execute_result",
          "data": {
            "text/plain": [
              "   fixed acidity  volatile acidity  citric acid  residual sugar  chlorides  \\\n",
              "0            7.4              0.70         0.00             1.9      0.076   \n",
              "1            7.8              0.88         0.00             2.6      0.098   \n",
              "2            7.8              0.76         0.04             2.3      0.092   \n",
              "3           11.2              0.28         0.56             1.9      0.075   \n",
              "4            7.4              0.70         0.00             1.9      0.076   \n",
              "\n",
              "   free sulfur dioxide  total sulfur dioxide  density    pH  sulphates  \\\n",
              "0                 11.0                  34.0   0.9978  3.51       0.56   \n",
              "1                 25.0                  67.0   0.9968  3.20       0.68   \n",
              "2                 15.0                  54.0   0.9970  3.26       0.65   \n",
              "3                 17.0                  60.0   0.9980  3.16       0.58   \n",
              "4                 11.0                  34.0   0.9978  3.51       0.56   \n",
              "\n",
              "   alcohol  \n",
              "0      9.4  \n",
              "1      9.8  \n",
              "2      9.8  \n",
              "3      9.8  \n",
              "4      9.4  "
            ],
            "text/html": [
              "\n",
              "  <div id=\"df-d977d3fc-5e46-46ff-9da5-da265b14b2fc\" class=\"colab-df-container\">\n",
              "    <div>\n",
              "<style scoped>\n",
              "    .dataframe tbody tr th:only-of-type {\n",
              "        vertical-align: middle;\n",
              "    }\n",
              "\n",
              "    .dataframe tbody tr th {\n",
              "        vertical-align: top;\n",
              "    }\n",
              "\n",
              "    .dataframe thead th {\n",
              "        text-align: right;\n",
              "    }\n",
              "</style>\n",
              "<table border=\"1\" class=\"dataframe\">\n",
              "  <thead>\n",
              "    <tr style=\"text-align: right;\">\n",
              "      <th></th>\n",
              "      <th>fixed acidity</th>\n",
              "      <th>volatile acidity</th>\n",
              "      <th>citric acid</th>\n",
              "      <th>residual sugar</th>\n",
              "      <th>chlorides</th>\n",
              "      <th>free sulfur dioxide</th>\n",
              "      <th>total sulfur dioxide</th>\n",
              "      <th>density</th>\n",
              "      <th>pH</th>\n",
              "      <th>sulphates</th>\n",
              "      <th>alcohol</th>\n",
              "    </tr>\n",
              "  </thead>\n",
              "  <tbody>\n",
              "    <tr>\n",
              "      <th>0</th>\n",
              "      <td>7.4</td>\n",
              "      <td>0.70</td>\n",
              "      <td>0.00</td>\n",
              "      <td>1.9</td>\n",
              "      <td>0.076</td>\n",
              "      <td>11.0</td>\n",
              "      <td>34.0</td>\n",
              "      <td>0.9978</td>\n",
              "      <td>3.51</td>\n",
              "      <td>0.56</td>\n",
              "      <td>9.4</td>\n",
              "    </tr>\n",
              "    <tr>\n",
              "      <th>1</th>\n",
              "      <td>7.8</td>\n",
              "      <td>0.88</td>\n",
              "      <td>0.00</td>\n",
              "      <td>2.6</td>\n",
              "      <td>0.098</td>\n",
              "      <td>25.0</td>\n",
              "      <td>67.0</td>\n",
              "      <td>0.9968</td>\n",
              "      <td>3.20</td>\n",
              "      <td>0.68</td>\n",
              "      <td>9.8</td>\n",
              "    </tr>\n",
              "    <tr>\n",
              "      <th>2</th>\n",
              "      <td>7.8</td>\n",
              "      <td>0.76</td>\n",
              "      <td>0.04</td>\n",
              "      <td>2.3</td>\n",
              "      <td>0.092</td>\n",
              "      <td>15.0</td>\n",
              "      <td>54.0</td>\n",
              "      <td>0.9970</td>\n",
              "      <td>3.26</td>\n",
              "      <td>0.65</td>\n",
              "      <td>9.8</td>\n",
              "    </tr>\n",
              "    <tr>\n",
              "      <th>3</th>\n",
              "      <td>11.2</td>\n",
              "      <td>0.28</td>\n",
              "      <td>0.56</td>\n",
              "      <td>1.9</td>\n",
              "      <td>0.075</td>\n",
              "      <td>17.0</td>\n",
              "      <td>60.0</td>\n",
              "      <td>0.9980</td>\n",
              "      <td>3.16</td>\n",
              "      <td>0.58</td>\n",
              "      <td>9.8</td>\n",
              "    </tr>\n",
              "    <tr>\n",
              "      <th>4</th>\n",
              "      <td>7.4</td>\n",
              "      <td>0.70</td>\n",
              "      <td>0.00</td>\n",
              "      <td>1.9</td>\n",
              "      <td>0.076</td>\n",
              "      <td>11.0</td>\n",
              "      <td>34.0</td>\n",
              "      <td>0.9978</td>\n",
              "      <td>3.51</td>\n",
              "      <td>0.56</td>\n",
              "      <td>9.4</td>\n",
              "    </tr>\n",
              "  </tbody>\n",
              "</table>\n",
              "</div>\n",
              "    <div class=\"colab-df-buttons\">\n",
              "\n",
              "  <div class=\"colab-df-container\">\n",
              "    <button class=\"colab-df-convert\" onclick=\"convertToInteractive('df-d977d3fc-5e46-46ff-9da5-da265b14b2fc')\"\n",
              "            title=\"Convert this dataframe to an interactive table.\"\n",
              "            style=\"display:none;\">\n",
              "\n",
              "  <svg xmlns=\"http://www.w3.org/2000/svg\" height=\"24px\" viewBox=\"0 -960 960 960\">\n",
              "    <path d=\"M120-120v-720h720v720H120Zm60-500h600v-160H180v160Zm220 220h160v-160H400v160Zm0 220h160v-160H400v160ZM180-400h160v-160H180v160Zm440 0h160v-160H620v160ZM180-180h160v-160H180v160Zm440 0h160v-160H620v160Z\"/>\n",
              "  </svg>\n",
              "    </button>\n",
              "\n",
              "  <style>\n",
              "    .colab-df-container {\n",
              "      display:flex;\n",
              "      gap: 12px;\n",
              "    }\n",
              "\n",
              "    .colab-df-convert {\n",
              "      background-color: #E8F0FE;\n",
              "      border: none;\n",
              "      border-radius: 50%;\n",
              "      cursor: pointer;\n",
              "      display: none;\n",
              "      fill: #1967D2;\n",
              "      height: 32px;\n",
              "      padding: 0 0 0 0;\n",
              "      width: 32px;\n",
              "    }\n",
              "\n",
              "    .colab-df-convert:hover {\n",
              "      background-color: #E2EBFA;\n",
              "      box-shadow: 0px 1px 2px rgba(60, 64, 67, 0.3), 0px 1px 3px 1px rgba(60, 64, 67, 0.15);\n",
              "      fill: #174EA6;\n",
              "    }\n",
              "\n",
              "    .colab-df-buttons div {\n",
              "      margin-bottom: 4px;\n",
              "    }\n",
              "\n",
              "    [theme=dark] .colab-df-convert {\n",
              "      background-color: #3B4455;\n",
              "      fill: #D2E3FC;\n",
              "    }\n",
              "\n",
              "    [theme=dark] .colab-df-convert:hover {\n",
              "      background-color: #434B5C;\n",
              "      box-shadow: 0px 1px 3px 1px rgba(0, 0, 0, 0.15);\n",
              "      filter: drop-shadow(0px 1px 2px rgba(0, 0, 0, 0.3));\n",
              "      fill: #FFFFFF;\n",
              "    }\n",
              "  </style>\n",
              "\n",
              "    <script>\n",
              "      const buttonEl =\n",
              "        document.querySelector('#df-d977d3fc-5e46-46ff-9da5-da265b14b2fc button.colab-df-convert');\n",
              "      buttonEl.style.display =\n",
              "        google.colab.kernel.accessAllowed ? 'block' : 'none';\n",
              "\n",
              "      async function convertToInteractive(key) {\n",
              "        const element = document.querySelector('#df-d977d3fc-5e46-46ff-9da5-da265b14b2fc');\n",
              "        const dataTable =\n",
              "          await google.colab.kernel.invokeFunction('convertToInteractive',\n",
              "                                                    [key], {});\n",
              "        if (!dataTable) return;\n",
              "\n",
              "        const docLinkHtml = 'Like what you see? Visit the ' +\n",
              "          '<a target=\"_blank\" href=https://colab.research.google.com/notebooks/data_table.ipynb>data table notebook</a>'\n",
              "          + ' to learn more about interactive tables.';\n",
              "        element.innerHTML = '';\n",
              "        dataTable['output_type'] = 'display_data';\n",
              "        await google.colab.output.renderOutput(dataTable, element);\n",
              "        const docLink = document.createElement('div');\n",
              "        docLink.innerHTML = docLinkHtml;\n",
              "        element.appendChild(docLink);\n",
              "      }\n",
              "    </script>\n",
              "  </div>\n",
              "\n",
              "\n",
              "<div id=\"df-b50235d4-bb29-4fc3-85b0-c5ad13b44550\">\n",
              "  <button class=\"colab-df-quickchart\" onclick=\"quickchart('df-b50235d4-bb29-4fc3-85b0-c5ad13b44550')\"\n",
              "            title=\"Suggest charts\"\n",
              "            style=\"display:none;\">\n",
              "\n",
              "<svg xmlns=\"http://www.w3.org/2000/svg\" height=\"24px\"viewBox=\"0 0 24 24\"\n",
              "     width=\"24px\">\n",
              "    <g>\n",
              "        <path d=\"M19 3H5c-1.1 0-2 .9-2 2v14c0 1.1.9 2 2 2h14c1.1 0 2-.9 2-2V5c0-1.1-.9-2-2-2zM9 17H7v-7h2v7zm4 0h-2V7h2v10zm4 0h-2v-4h2v4z\"/>\n",
              "    </g>\n",
              "</svg>\n",
              "  </button>\n",
              "\n",
              "<style>\n",
              "  .colab-df-quickchart {\n",
              "      --bg-color: #E8F0FE;\n",
              "      --fill-color: #1967D2;\n",
              "      --hover-bg-color: #E2EBFA;\n",
              "      --hover-fill-color: #174EA6;\n",
              "      --disabled-fill-color: #AAA;\n",
              "      --disabled-bg-color: #DDD;\n",
              "  }\n",
              "\n",
              "  [theme=dark] .colab-df-quickchart {\n",
              "      --bg-color: #3B4455;\n",
              "      --fill-color: #D2E3FC;\n",
              "      --hover-bg-color: #434B5C;\n",
              "      --hover-fill-color: #FFFFFF;\n",
              "      --disabled-bg-color: #3B4455;\n",
              "      --disabled-fill-color: #666;\n",
              "  }\n",
              "\n",
              "  .colab-df-quickchart {\n",
              "    background-color: var(--bg-color);\n",
              "    border: none;\n",
              "    border-radius: 50%;\n",
              "    cursor: pointer;\n",
              "    display: none;\n",
              "    fill: var(--fill-color);\n",
              "    height: 32px;\n",
              "    padding: 0;\n",
              "    width: 32px;\n",
              "  }\n",
              "\n",
              "  .colab-df-quickchart:hover {\n",
              "    background-color: var(--hover-bg-color);\n",
              "    box-shadow: 0 1px 2px rgba(60, 64, 67, 0.3), 0 1px 3px 1px rgba(60, 64, 67, 0.15);\n",
              "    fill: var(--button-hover-fill-color);\n",
              "  }\n",
              "\n",
              "  .colab-df-quickchart-complete:disabled,\n",
              "  .colab-df-quickchart-complete:disabled:hover {\n",
              "    background-color: var(--disabled-bg-color);\n",
              "    fill: var(--disabled-fill-color);\n",
              "    box-shadow: none;\n",
              "  }\n",
              "\n",
              "  .colab-df-spinner {\n",
              "    border: 2px solid var(--fill-color);\n",
              "    border-color: transparent;\n",
              "    border-bottom-color: var(--fill-color);\n",
              "    animation:\n",
              "      spin 1s steps(1) infinite;\n",
              "  }\n",
              "\n",
              "  @keyframes spin {\n",
              "    0% {\n",
              "      border-color: transparent;\n",
              "      border-bottom-color: var(--fill-color);\n",
              "      border-left-color: var(--fill-color);\n",
              "    }\n",
              "    20% {\n",
              "      border-color: transparent;\n",
              "      border-left-color: var(--fill-color);\n",
              "      border-top-color: var(--fill-color);\n",
              "    }\n",
              "    30% {\n",
              "      border-color: transparent;\n",
              "      border-left-color: var(--fill-color);\n",
              "      border-top-color: var(--fill-color);\n",
              "      border-right-color: var(--fill-color);\n",
              "    }\n",
              "    40% {\n",
              "      border-color: transparent;\n",
              "      border-right-color: var(--fill-color);\n",
              "      border-top-color: var(--fill-color);\n",
              "    }\n",
              "    60% {\n",
              "      border-color: transparent;\n",
              "      border-right-color: var(--fill-color);\n",
              "    }\n",
              "    80% {\n",
              "      border-color: transparent;\n",
              "      border-right-color: var(--fill-color);\n",
              "      border-bottom-color: var(--fill-color);\n",
              "    }\n",
              "    90% {\n",
              "      border-color: transparent;\n",
              "      border-bottom-color: var(--fill-color);\n",
              "    }\n",
              "  }\n",
              "</style>\n",
              "\n",
              "  <script>\n",
              "    async function quickchart(key) {\n",
              "      const quickchartButtonEl =\n",
              "        document.querySelector('#' + key + ' button');\n",
              "      quickchartButtonEl.disabled = true;  // To prevent multiple clicks.\n",
              "      quickchartButtonEl.classList.add('colab-df-spinner');\n",
              "      try {\n",
              "        const charts = await google.colab.kernel.invokeFunction(\n",
              "            'suggestCharts', [key], {});\n",
              "      } catch (error) {\n",
              "        console.error('Error during call to suggestCharts:', error);\n",
              "      }\n",
              "      quickchartButtonEl.classList.remove('colab-df-spinner');\n",
              "      quickchartButtonEl.classList.add('colab-df-quickchart-complete');\n",
              "    }\n",
              "    (() => {\n",
              "      let quickchartButtonEl =\n",
              "        document.querySelector('#df-b50235d4-bb29-4fc3-85b0-c5ad13b44550 button');\n",
              "      quickchartButtonEl.style.display =\n",
              "        google.colab.kernel.accessAllowed ? 'block' : 'none';\n",
              "    })();\n",
              "  </script>\n",
              "</div>\n",
              "\n",
              "    </div>\n",
              "  </div>\n"
            ]
          },
          "metadata": {},
          "execution_count": 30
        }
      ]
    },
    {
      "cell_type": "code",
      "source": [
        "y.head()"
      ],
      "metadata": {
        "colab": {
          "base_uri": "https://localhost:8080/"
        },
        "id": "L-uOIKJupDst",
        "outputId": "61de818d-6387-476e-ab32-531c7d2f3561"
      },
      "execution_count": 31,
      "outputs": [
        {
          "output_type": "execute_result",
          "data": {
            "text/plain": [
              "0    0\n",
              "1    0\n",
              "2    0\n",
              "3    1\n",
              "4    0\n",
              "Name: quality, dtype: int64"
            ]
          },
          "metadata": {},
          "execution_count": 31
        }
      ]
    },
    {
      "cell_type": "markdown",
      "source": [
        "**Q5. Perform a train-test split, dividing the data into training, validation, and test datasets.**\n"
      ],
      "metadata": {
        "id": "6ZFyUBSAmSIU"
      }
    },
    {
      "cell_type": "code",
      "source": [
        "from sklearn.model_selection import train_test_split\n",
        "# Perform a train-test split\n",
        "X_train, X_temp, y_train, y_temp = train_test_split(X, y, test_size=0.2, random_state=42)\n",
        "\n",
        "# Further split the 'temp' data into validation and test sets\n",
        "X_val, X_test, y_val, y_test = train_test_split(X_temp, y_temp, test_size=0.5, random_state=42)\n",
        "\n",
        "# Print the dimensions of each set\n",
        "print(\"Training set dimensions:\", X_train.shape, y_train.shape)\n",
        "print(\"Validation set dimensions:\", X_val.shape, y_val.shape)\n",
        "print(\"Test set dimensions:\", X_test.shape, y_test.shape)\n",
        "\n",
        "\n"
      ],
      "metadata": {
        "id": "llemKAzwmpO7",
        "colab": {
          "base_uri": "https://localhost:8080/"
        },
        "outputId": "b624aefd-a778-4e42-da77-1dd05fc7fa78"
      },
      "execution_count": 33,
      "outputs": [
        {
          "output_type": "stream",
          "name": "stdout",
          "text": [
            "Training set dimensions: (1279, 11) (1279,)\n",
            "Validation set dimensions: (160, 11) (160,)\n",
            "Test set dimensions: (160, 11) (160,)\n"
          ]
        }
      ]
    },
    {
      "cell_type": "markdown",
      "source": [
        "**Q6. Scale the dataset using an appropriate scaling technique.**\n"
      ],
      "metadata": {
        "id": "oEn76Ep9mNTV"
      }
    },
    {
      "cell_type": "code",
      "source": [
        "from sklearn.preprocessing import StandardScaler\n",
        "\n",
        "# Create a StandardScaler instance\n",
        "scaler = StandardScaler()\n",
        "\n",
        "# Fit the scaler on the training data and transform both training and validation sets\n",
        "X_train_scaled = scaler.fit_transform(X_train)\n",
        "X_val_scaled = scaler.transform(X_val)\n",
        "X_test_scaled = scaler.transform(X_test)"
      ],
      "metadata": {
        "id": "e-xYOdmImuDw"
      },
      "execution_count": 34,
      "outputs": []
    },
    {
      "cell_type": "code",
      "source": [
        "import matplotlib.pyplot as plt\n",
        "import seaborn as sns\n",
        "plt.subplots(figsize=(15, 5))\n",
        "plt.subplot(1, 2, 1)\n",
        "sns.boxplot(data=X_train)\n",
        "plt.title('X_train Before Scaling')\n",
        "plt.subplot(1, 2, 2)\n",
        "sns.boxplot(data=X_train_scaled)\n",
        "plt.title('X_train After Scaling')"
      ],
      "metadata": {
        "id": "wpvwJnmOmuO8",
        "colab": {
          "base_uri": "https://localhost:8080/",
          "height": 499
        },
        "outputId": "95e9c78b-bbe6-4a6b-c70d-ea3fd1ac3dc2"
      },
      "execution_count": 35,
      "outputs": [
        {
          "output_type": "stream",
          "name": "stderr",
          "text": [
            "<ipython-input-35-b56d0f4aeb67>:4: MatplotlibDeprecationWarning: Auto-removal of overlapping axes is deprecated since 3.6 and will be removed two minor releases later; explicitly call ax.remove() as needed.\n",
            "  plt.subplot(1, 2, 1)\n"
          ]
        },
        {
          "output_type": "execute_result",
          "data": {
            "text/plain": [
              "Text(0.5, 1.0, 'X_train After Scaling')"
            ]
          },
          "metadata": {},
          "execution_count": 35
        },
        {
          "output_type": "display_data",
          "data": {
            "text/plain": [
              "<Figure size 1500x500 with 2 Axes>"
            ],
            "image/png": "[encoded data removed]"
          },
          "metadata": {}
        }
      ]
    },
    {
      "cell_type": "markdown",
      "source": [
        "**Q7. Design and implement at least two hidden layers and an output layer for the binary categorical variables.**\n"
      ],
      "metadata": {
        "id": "d4PyQrYjmutY"
      }
    },
    {
      "cell_type": "code",
      "source": [
        "import tensorflow as tf\n",
        "from tensorflow.keras.models import Sequential\n",
        "from tensorflow.keras.layers import Dense\n",
        "\n",
        "# Assuming your input features have n features\n",
        "input_dim = wine_data.shape[1] - 1  # Exclude the target variable\n",
        "\n",
        "# Define the model\n",
        "model = Sequential()\n",
        "\n",
        "# Add the first hidden layer\n",
        "model.add(Dense(units=64, input_dim=input_dim, activation='relu'))\n",
        "\n",
        "# Add the second hidden layer\n",
        "model.add(Dense(units=32, activation='relu'))\n",
        "\n",
        "# Add the output layer for binary classification\n",
        "model.add(Dense(units=1, activation='sigmoid'))\n",
        "\n",
        "# Compile the model\n",
        "model.compile(optimizer='adam', loss='binary_crossentropy', metrics=['accuracy'])\n",
        "\n"
      ],
      "metadata": {
        "id": "_uNKQFh0m0pK"
      },
      "execution_count": 36,
      "outputs": []
    },
    {
      "cell_type": "markdown",
      "source": [
        "**Q8. Create a Sequential model in Keras and add the previously designed layers to it.**\n"
      ],
      "metadata": {
        "id": "uoZbDoPpm1Fh"
      }
    },
    {
      "cell_type": "code",
      "source": [
        "import tensorflow as tf\n",
        "from tensorflow.keras.models import Sequential\n",
        "from tensorflow.keras.layers import Dense\n",
        "\n",
        "# Define the Sequential model\n",
        "model = Sequential()\n",
        "\n",
        "# Add the first hidden layer with input dimension\n",
        "model.add(Dense(units=64, input_dim=X_train.shape[1], activation='relu'))\n",
        "\n",
        "# Add the second hidden layer\n",
        "model.add(Dense(units=32, activation='relu'))\n",
        "\n",
        "# Add the output layer for binary classification\n",
        "model.add(Dense(units=1, activation='sigmoid'))\n",
        "\n",
        "# Compile the model\n",
        "model.compile(optimizer='adam', loss='binary_crossentropy', metrics=['accuracy'])\n",
        "\n",
        "\n"
      ],
      "metadata": {
        "id": "BqEsbS_9m4fU"
      },
      "execution_count": 37,
      "outputs": []
    },
    {
      "cell_type": "code",
      "source": [],
      "metadata": {
        "id": "Q3Hym8Lpm4oq"
      },
      "execution_count": null,
      "outputs": []
    },
    {
      "cell_type": "markdown",
      "source": [
        "**Q9. Print the summary of the model architecture.**\n"
      ],
      "metadata": {
        "id": "2DS6inGWm47i"
      }
    },
    {
      "cell_type": "code",
      "source": [
        "# Display the model summary\n",
        "model.summary()"
      ],
      "metadata": {
        "id": "U7f8sD1um9V_",
        "colab": {
          "base_uri": "https://localhost:8080/"
        },
        "outputId": "fb15ad47-6e47-4ea1-e8c1-f92eaf49813f"
      },
      "execution_count": 38,
      "outputs": [
        {
          "output_type": "stream",
          "name": "stdout",
          "text": [
            "Model: \"sequential_1\"\n",
            "_________________________________________________________________\n",
            " Layer (type)                Output Shape              Param #   \n",
            "=================================================================\n",
            " dense_3 (Dense)             (None, 64)                768       \n",
            "                                                                 \n",
            " dense_4 (Dense)             (None, 32)                2080      \n",
            "                                                                 \n",
            " dense_5 (Dense)             (None, 1)                 33        \n",
            "                                                                 \n",
            "=================================================================\n",
            "Total params: 2881 (11.25 KB)\n",
            "Trainable params: 2881 (11.25 KB)\n",
            "Non-trainable params: 0 (0.00 Byte)\n",
            "_________________________________________________________________\n"
          ]
        }
      ]
    },
    {
      "cell_type": "markdown",
      "source": [
        "**Q10. Set the loss function(‘binary_crossentropy’), optimizer, and include the accuracy metric in the model.**\n"
      ],
      "metadata": {
        "id": "KdmJK-Xsm91-"
      }
    },
    {
      "cell_type": "code",
      "source": [
        "# Compile the model\n",
        "model.compile(optimizer='adam', loss='binary_crossentropy', metrics=['accuracy'])\n",
        "\n",
        "\n"
      ],
      "metadata": {
        "id": "Y8L7VYjInBx-"
      },
      "execution_count": 39,
      "outputs": []
    },
    {
      "cell_type": "markdown",
      "source": [
        "**Q11. Compile the model with the specified loss function, optimizer, and metrics.**\n"
      ],
      "metadata": {
        "id": "VY8n1VcnnCPs"
      }
    },
    {
      "cell_type": "code",
      "source": [
        "# Compile the model\n",
        "model.compile(optimizer='adam', loss='binary_crossentropy', metrics=['accuracy'])\n"
      ],
      "metadata": {
        "id": "GFy5IrvBnGRu"
      },
      "execution_count": 40,
      "outputs": []
    },
    {
      "cell_type": "markdown",
      "source": [
        "**Q12. Fit the model to the training data using appropriate batch size and number of epochs.**\n"
      ],
      "metadata": {
        "id": "te6cLQobnG3j"
      }
    },
    {
      "cell_type": "code",
      "source": [
        "# Train the model\n",
        "model.fit(X_train, y_train, epochs=20, batch_size=32, validation_data=(X_val, y_val))\n"
      ],
      "metadata": {
        "id": "qt82ndqrnL8v",
        "colab": {
          "base_uri": "https://localhost:8080/"
        },
        "outputId": "97e2874d-b2ac-425e-9139-b1efdc248aaa"
      },
      "execution_count": 41,
      "outputs": [
        {
          "output_type": "stream",
          "name": "stdout",
          "text": [
            "Epoch 1/20\n",
            "40/40 [==============================] - 4s 12ms/step - loss: 0.9058 - accuracy: 0.5481 - val_loss: 0.7018 - val_accuracy: 0.6062\n",
            "Epoch 2/20\n",
            "40/40 [==============================] - 0s 6ms/step - loss: 0.6458 - accuracy: 0.6419 - val_loss: 0.7008 - val_accuracy: 0.6062\n",
            "Epoch 3/20\n",
            "40/40 [==============================] - 0s 5ms/step - loss: 0.6531 - accuracy: 0.6317 - val_loss: 0.6856 - val_accuracy: 0.6000\n",
            "Epoch 4/20\n",
            "40/40 [==============================] - 0s 6ms/step - loss: 0.6510 - accuracy: 0.6255 - val_loss: 0.6743 - val_accuracy: 0.5875\n",
            "Epoch 5/20\n",
            "40/40 [==============================] - 0s 6ms/step - loss: 0.6352 - accuracy: 0.6310 - val_loss: 0.7138 - val_accuracy: 0.5813\n",
            "Epoch 6/20\n",
            "40/40 [==============================] - 0s 5ms/step - loss: 0.6130 - accuracy: 0.6474 - val_loss: 0.6435 - val_accuracy: 0.6062\n",
            "Epoch 7/20\n",
            "40/40 [==============================] - 0s 6ms/step - loss: 0.6134 - accuracy: 0.6521 - val_loss: 0.6872 - val_accuracy: 0.6000\n",
            "Epoch 8/20\n",
            "40/40 [==============================] - 0s 6ms/step - loss: 0.6119 - accuracy: 0.6552 - val_loss: 0.6464 - val_accuracy: 0.6125\n",
            "Epoch 9/20\n",
            "40/40 [==============================] - 0s 4ms/step - loss: 0.5994 - accuracy: 0.6685 - val_loss: 0.6324 - val_accuracy: 0.6187\n",
            "Epoch 10/20\n",
            "40/40 [==============================] - 0s 4ms/step - loss: 0.6133 - accuracy: 0.6521 - val_loss: 0.6701 - val_accuracy: 0.6438\n",
            "Epoch 11/20\n",
            "40/40 [==============================] - 0s 4ms/step - loss: 0.6070 - accuracy: 0.6615 - val_loss: 0.6313 - val_accuracy: 0.5938\n",
            "Epoch 12/20\n",
            "40/40 [==============================] - 0s 4ms/step - loss: 0.5886 - accuracy: 0.6787 - val_loss: 0.6739 - val_accuracy: 0.6562\n",
            "Epoch 13/20\n",
            "40/40 [==============================] - 0s 4ms/step - loss: 0.5824 - accuracy: 0.6810 - val_loss: 0.7743 - val_accuracy: 0.5750\n",
            "Epoch 14/20\n",
            "40/40 [==============================] - 0s 4ms/step - loss: 0.6090 - accuracy: 0.6521 - val_loss: 0.6319 - val_accuracy: 0.6750\n",
            "Epoch 15/20\n",
            "40/40 [==============================] - 0s 4ms/step - loss: 0.5758 - accuracy: 0.6904 - val_loss: 0.6002 - val_accuracy: 0.6562\n",
            "Epoch 16/20\n",
            "40/40 [==============================] - 0s 4ms/step - loss: 0.5952 - accuracy: 0.6794 - val_loss: 0.5909 - val_accuracy: 0.6875\n",
            "Epoch 17/20\n",
            "40/40 [==============================] - 0s 4ms/step - loss: 0.5778 - accuracy: 0.6912 - val_loss: 0.6357 - val_accuracy: 0.6938\n",
            "Epoch 18/20\n",
            "40/40 [==============================] - 0s 4ms/step - loss: 0.5667 - accuracy: 0.7029 - val_loss: 0.6282 - val_accuracy: 0.6625\n",
            "Epoch 19/20\n",
            "40/40 [==============================] - 0s 4ms/step - loss: 0.5713 - accuracy: 0.6912 - val_loss: 0.6136 - val_accuracy: 0.6313\n",
            "Epoch 20/20\n",
            "40/40 [==============================] - 0s 4ms/step - loss: 0.5852 - accuracy: 0.6943 - val_loss: 0.5792 - val_accuracy: 0.6812\n"
          ]
        },
        {
          "output_type": "execute_result",
          "data": {
            "text/plain": [
              "<keras.src.callbacks.History at 0x7e451551cd60>"
            ]
          },
          "metadata": {},
          "execution_count": 41
        }
      ]
    },
    {
      "cell_type": "code",
      "source": [],
      "metadata": {
        "id": "uZA01gvznMGz"
      },
      "execution_count": null,
      "outputs": []
    },
    {
      "cell_type": "markdown",
      "source": [
        "**Q13. Obtain the model's parameters (weights and biases).**\n"
      ],
      "metadata": {
        "id": "n93lTmz0nHDX"
      }
    },
    {
      "cell_type": "code",
      "source": [
        "# Get the model's parameters\n",
        "model_weights = model.get_weights()\n",
        "\n",
        "# Display the parameters\n",
        "for i, layer_weights in enumerate(model_weights):\n",
        "    print(f\"Layer {i + 1} weights shape:\", layer_weights.shape)\n",
        "    print(f\"Layer {i + 1} weights:\")\n",
        "    print(layer_weights)\n",
        "    print(\"\\n\")\n"
      ],
      "metadata": {
        "id": "TqF-OBTjnQjx",
        "colab": {
          "base_uri": "https://localhost:8080/"
        },
        "outputId": "3f6d6458-1ca5-4648-ad3f-d9d49ee3df18"
      },
      "execution_count": 42,
      "outputs": [
        {
          "output_type": "stream",
          "name": "stdout",
          "text": [
            "Layer 1 weights shape: (11, 64)\n",
            "Layer 1 weights:\n",
            "[[-1.41460240e-01 -1.55044571e-01 -7.20412955e-02  2.52561659e-01\n",
            "   1.54546022e-01  1.59964725e-01  2.53432184e-01 -2.30510700e-02\n",
            "  -5.54444790e-02 -1.93690494e-01 -6.03974462e-02  3.02168548e-01\n",
            "   8.83359537e-02 -1.29449800e-01  1.72640339e-01 -2.26209760e-01\n",
            "  -2.70836234e-01 -1.14778399e-01  1.82143897e-01 -2.29382627e-02\n",
            "  -1.21194184e-01 -1.12889156e-01  1.68085620e-02 -1.84217513e-01\n",
            "   5.65639623e-02 -2.31194124e-01  2.00174958e-01 -1.68336973e-01\n",
            "  -2.18945637e-01 -1.15728252e-01  1.45154595e-01 -1.21815025e-03\n",
            "   6.61765262e-02  2.90182203e-01  3.76503468e-02  5.46863191e-02\n",
            "   2.44818896e-01  2.26881161e-01  1.96440537e-02 -6.67192191e-02\n",
            "   1.20192282e-01  2.15125293e-01 -1.12942293e-01  2.25988060e-01\n",
            "  -2.38758512e-02  1.44951597e-01  2.61183172e-01 -3.15716803e-01\n",
            "  -1.60178304e-01 -8.15092493e-03  7.21179768e-02 -2.39483535e-01\n",
            "   1.24339342e-01 -1.70329511e-01  7.27388263e-03 -1.05525121e-01\n",
            "  -2.61458158e-01  1.84932947e-02 -6.76667392e-02 -9.80633199e-02\n",
            "   2.22722247e-01 -1.17353797e-01 -4.09292690e-02 -1.82137221e-01]\n",
            " [-1.85234234e-01  7.58266449e-03 -9.35952812e-02 -2.01861888e-01\n",
            "   1.81792155e-01  3.22754413e-01 -3.16055715e-01 -2.40045235e-01\n",
            "   5.97559273e-01 -2.37987548e-01  1.32371306e-01  3.28620702e-01\n",
            "  -2.08574817e-01  5.02932906e-01  8.83883424e-03  2.49251455e-01\n",
            "   1.85926128e-02  3.06201845e-01  3.43366414e-01 -4.39434111e-01\n",
            "   6.81897700e-02  1.45804584e-02  3.63694392e-02  1.39439583e-01\n",
            "   1.84497274e-02 -7.86355510e-02 -4.07851219e-01 -1.64374799e-01\n",
            "   4.07259226e-01 -5.44161260e-01  1.73789814e-01 -3.41603667e-01\n",
            "  -1.89859107e-01 -1.05871875e-02 -1.35592222e-02 -6.22831844e-02\n",
            "   1.30671099e-01  1.97895095e-01 -4.81394529e-01 -6.00315988e-01\n",
            "   2.93700933e-01 -2.20063001e-01 -2.71236777e-01  1.89976618e-01\n",
            "  -5.41672856e-02 -2.41573289e-01 -2.44311206e-02 -3.34071666e-01\n",
            "  -3.25736165e-01  2.51134217e-01  2.34515056e-01  2.46208519e-01\n",
            "  -3.60700786e-02  8.33348334e-02  1.84862763e-01 -5.72476387e-01\n",
            "   1.87615335e-01 -1.71103120e-01  2.42729157e-01  2.82787979e-02\n",
            "  -9.80159044e-02 -4.59012873e-02 -3.67218077e-01 -3.37811142e-01]\n",
            " [ 1.40324399e-01  1.63885623e-01 -1.68908131e-03 -1.49584383e-01\n",
            "  -1.72214568e-01 -4.45057482e-01  1.91534907e-01 -4.28852811e-02\n",
            "  -3.03732902e-01 -5.94586059e-02 -1.00303769e-01 -2.34561175e-01\n",
            "   2.46392101e-01 -2.68176887e-02 -1.15028545e-01 -2.04855740e-01\n",
            "  -8.00910220e-02 -2.80707538e-01 -1.95891276e-01  3.91151458e-01\n",
            "  -2.63246000e-02  1.38187319e-01  3.72948438e-01 -9.29318815e-02\n",
            "  -8.94753262e-02 -4.99096848e-02  1.69063002e-01  3.42684925e-01\n",
            "   1.41266763e-01  3.75776082e-01 -3.48952532e-01 -1.17432259e-01\n",
            "   2.71375030e-02  2.35567614e-02 -2.63848871e-01  4.24120069e-01\n",
            "   1.07483998e-01 -6.29728213e-02  1.29122004e-01  1.64179280e-01\n",
            "  -1.64715340e-03  8.80731791e-02 -1.56917781e-01  1.49196789e-01\n",
            "   3.09167445e-01  1.24151692e-01  2.03879853e-03 -1.33492142e-01\n",
            "   4.13259342e-02  2.26331651e-01 -1.41111404e-01 -2.48188913e-01\n",
            "   2.00024903e-01 -8.66035521e-02 -2.00837910e-01  3.48561823e-01\n",
            "   1.89589620e-01  1.14379406e-01  6.96368515e-02 -3.20133269e-02\n",
            "   1.47405565e-01  3.94291244e-02  4.04716909e-01 -1.62042499e-01]\n",
            " [-3.12076267e-02 -2.57436007e-01 -6.06999099e-02  5.08615456e-04\n",
            "  -2.38005787e-01  6.46570250e-02 -2.04632029e-01 -2.26929933e-01\n",
            "  -2.20921561e-01 -1.89228117e-01 -4.22074795e-02 -2.78489172e-01\n",
            "  -1.85795501e-01  2.34850585e-01 -9.74092409e-02 -1.65928721e-01\n",
            "  -2.33562678e-01 -2.02294856e-01  2.30201155e-01  1.34177148e-01\n",
            "  -2.95531154e-02 -1.75854325e-01 -9.81938168e-02 -2.35493220e-02\n",
            "  -2.65350729e-01 -4.03191671e-02 -2.67943919e-01  1.87806085e-01\n",
            "  -6.02806546e-02 -2.54699271e-02 -2.35513076e-01  2.91268751e-02\n",
            "  -2.00446218e-01  2.10480452e-01  2.78728634e-01 -1.76924676e-01\n",
            "   2.38231480e-01 -1.36577869e-02  6.61083609e-02 -9.10251066e-02\n",
            "  -2.44738579e-01 -2.60605514e-01 -2.57796586e-01 -1.35662779e-01\n",
            "  -1.55203566e-01 -2.28741214e-01 -1.16580576e-01 -1.84689522e-01\n",
            "   2.05618531e-01  1.17810421e-01 -1.02884650e-01  1.38572425e-01\n",
            "  -6.28798604e-02  3.03593576e-02 -1.52447790e-01 -5.22556640e-02\n",
            "  -1.56314507e-01  9.89662707e-02  2.03736663e-01  1.90006912e-01\n",
            "   1.45356312e-01 -2.41401732e-01  2.85139922e-02  1.12555526e-01]\n",
            " [ 3.11118841e-01 -2.38457307e-01 -3.47296856e-02  1.66215032e-01\n",
            "  -1.87350139e-01 -9.87927429e-03  5.29021025e-02  2.57065091e-02\n",
            "   3.78299654e-01 -1.14099026e-01  1.35291517e-02  5.89774214e-02\n",
            "   1.77162871e-01  3.64787392e-02  1.12817392e-01 -1.98545307e-01\n",
            "  -2.94044703e-01  1.50474742e-01 -5.15456647e-02  5.64693138e-02\n",
            "   9.71468091e-02  8.99286270e-02 -2.10550636e-01  2.15565711e-01\n",
            "   1.77079692e-01 -8.90583321e-02 -2.60129541e-01 -8.49666819e-02\n",
            "   3.98255467e-01 -1.50281070e-02  2.16580838e-01  7.54865110e-02\n",
            "   1.02672502e-01  9.60692167e-02  4.51531708e-02 -2.12058006e-03\n",
            "   9.35586467e-02  4.22647893e-01 -3.19005363e-02 -2.83783644e-01\n",
            "   3.25871855e-01 -3.05441439e-01 -4.83190417e-02  4.62196171e-02\n",
            "  -3.96591127e-01  2.63006032e-01 -1.10633582e-01  9.41259861e-02\n",
            "   2.63824873e-02  8.11247230e-02  1.27059355e-01 -1.24438003e-01\n",
            "   1.91107988e-01  1.21984780e-01 -7.60637373e-02 -8.42636265e-03\n",
            "  -4.99742329e-02 -1.31959826e-01 -1.51020393e-01  7.14754760e-02\n",
            "  -1.08960591e-01 -1.02550730e-01  2.55246758e-02 -1.57034114e-01]\n",
            " [ 1.62691996e-01  1.39978230e-02  2.64877044e-02  2.41454527e-01\n",
            "   2.29941517e-01  2.31270958e-02  1.64420426e-01 -8.31514224e-02\n",
            "   1.49301291e-01 -1.23941377e-01  1.33617580e-01  1.54187530e-01\n",
            "   4.96431515e-02  8.03463534e-02  1.00806050e-01 -2.31024891e-01\n",
            "   1.80566106e-02  1.36358500e-01  1.14621334e-01  1.77695565e-02\n",
            "  -7.18135834e-02 -1.82182223e-01  5.72781600e-02  1.50825888e-01\n",
            "  -4.67157960e-02  1.30006000e-01  2.11088166e-01  1.00877181e-01\n",
            "  -1.98109731e-01  1.76941440e-01  1.60846010e-01  5.73927686e-02\n",
            "   1.52147608e-02  2.34698400e-01 -2.67180949e-01  1.92042112e-01\n",
            "  -2.83112556e-01  2.22881153e-01  1.91042364e-01  3.36114205e-02\n",
            "  -2.34762117e-01  1.54890090e-01  1.44416958e-01  1.83193371e-01\n",
            "  -1.85003102e-01  7.86244497e-02 -1.01735987e-01 -2.29534760e-01\n",
            "  -8.69228169e-02  1.35899246e-01 -3.37075770e-01 -2.71652490e-01\n",
            "  -9.50545669e-02  1.34851038e-02 -2.71322548e-01 -3.45142670e-02\n",
            "  -9.09105539e-02 -1.95955217e-01 -2.15400681e-01 -2.65866369e-01\n",
            "   1.60296306e-01  1.54790118e-01  3.03845316e-01  9.36831534e-02]\n",
            " [-3.08371186e-02 -1.38884723e-01  2.48220637e-01 -7.62456516e-03\n",
            "   7.17859566e-02  2.08081841e-01 -1.17144864e-02  2.31696278e-01\n",
            "  -7.50982016e-03  3.06475703e-02 -1.30077258e-01 -2.92945236e-01\n",
            "  -1.54800728e-01  1.69304237e-01 -2.42910698e-01 -8.08200538e-02\n",
            "   2.43991047e-01  2.34746918e-01  2.63618261e-01  7.26634413e-02\n",
            "  -2.81068921e-01 -6.71759397e-02  1.30366474e-01 -7.98326284e-02\n",
            "   7.87918493e-02 -9.68518257e-02  2.55692601e-01 -3.93127874e-02\n",
            "   9.37263668e-02  1.01797134e-01  2.35962749e-01  2.52939492e-01\n",
            "  -1.43546522e-01 -1.55202478e-01 -1.56793565e-01 -8.56926367e-02\n",
            "  -1.39178053e-01  2.07811981e-01 -4.54439074e-02  2.18170434e-01\n",
            "   2.85573453e-01  1.89453751e-01 -1.74965873e-01 -3.00219983e-01\n",
            "   2.46492237e-01 -8.49688798e-02  4.37110402e-02  8.01273137e-02\n",
            "   3.51859033e-02 -3.87042505e-03  2.52549853e-02 -1.28737986e-01\n",
            "  -1.99899077e-01 -1.32736206e-01 -1.47122145e-03  1.57783553e-01\n",
            "  -2.01025635e-01 -1.05234891e-01 -1.42164096e-01 -1.67000175e-01\n",
            "  -2.60290146e-01  5.97679429e-02 -1.40038505e-02  4.29625325e-02]\n",
            " [ 2.61754543e-02 -2.43131220e-02 -4.82431538e-02 -4.53838520e-02\n",
            "  -3.82952467e-02  9.83981639e-02 -9.82046649e-02 -3.06974113e-01\n",
            "   9.23826471e-02  2.27691606e-01 -2.17647612e-01 -1.41521871e-01\n",
            "   2.56234735e-01  1.05563188e-02  1.07730791e-01 -1.47098914e-01\n",
            "   7.51126558e-02 -1.54251501e-01  3.10675561e-01 -3.31865370e-01\n",
            "   9.14843678e-02 -6.47142231e-02  7.74760172e-02 -9.65412557e-02\n",
            "   2.84673214e-01  1.64297149e-01  2.12278694e-01 -2.81047672e-01\n",
            "   1.10480413e-01 -8.42223763e-02 -6.33930042e-02  1.27099037e-01\n",
            "   5.13510108e-02 -1.15782283e-01  1.03661776e-01  1.60660610e-01\n",
            "  -1.84470937e-01  2.99130082e-01 -1.83369532e-01  1.17520779e-01\n",
            "   2.90157437e-01  1.83355719e-01  2.08894819e-01 -2.37161651e-01\n",
            "   1.92503363e-01 -2.89127361e-02  4.36876938e-02  7.20584206e-03\n",
            "  -3.10897052e-01  6.44507557e-02 -3.26933451e-02 -2.80767292e-01\n",
            "  -1.88320905e-01 -1.89989775e-01 -5.57787567e-02 -3.21897030e-01\n",
            "  -4.95284200e-02  6.52084053e-02 -1.15197182e-01  2.17543453e-01\n",
            "   3.32975350e-02  1.16851971e-01 -2.19550595e-01  1.33836120e-01]\n",
            " [-7.02685937e-02  6.51877522e-02 -1.09365933e-01 -1.53624415e-01\n",
            "  -1.59451887e-01  3.47667694e-01 -2.69686908e-01  1.57709733e-01\n",
            "   3.70531559e-01 -9.93441045e-02 -6.37144446e-02  1.58276588e-01\n",
            "   2.18318090e-01  2.97483951e-01  3.16954672e-01  2.26654410e-02\n",
            "  -3.24744172e-02  3.06716710e-01  5.37836701e-02  3.37372199e-02\n",
            "  -1.22508481e-01  1.98893011e-01  1.85681637e-02  1.95558771e-01\n",
            "   2.32743323e-01 -2.78580397e-01  1.92536041e-01 -7.99469799e-02\n",
            "  -3.88209000e-02 -2.16402873e-01  3.34233418e-02  1.03711873e-01\n",
            "   6.42869174e-02 -2.70922750e-01 -2.45157644e-01  9.42528918e-02\n",
            "  -2.17946738e-01  2.45247439e-01 -1.64060608e-01 -1.34362444e-01\n",
            "   7.52356723e-02 -3.08548421e-01 -2.78345883e-01 -2.16947868e-01\n",
            "  -2.72466958e-01 -1.21501476e-01  1.86886877e-01 -2.45465711e-01\n",
            "   1.33987799e-01  1.37768582e-01 -2.36214086e-01  6.81177378e-02\n",
            "   1.06871605e-01 -1.64642319e-01  1.78239107e-01 -3.50463092e-01\n",
            "   8.94824862e-02  2.31794983e-01  1.04005069e-01  1.08140051e-01\n",
            "  -9.42400619e-02 -2.06067041e-01 -1.48928374e-01  1.68664917e-01]\n",
            " [ 1.89497799e-01  8.11208189e-02  3.51289868e-01 -2.40972236e-01\n",
            "  -2.93839067e-01  1.54599190e-01 -1.48836181e-01 -7.74832368e-02\n",
            "  -2.87375540e-01  1.93043068e-01 -9.53370482e-02  8.61094519e-02\n",
            "  -2.46650219e-01  7.30592310e-02 -3.69854450e-01  3.45070660e-02\n",
            "  -1.14374280e-01 -9.12879407e-02 -1.71884239e-01 -1.74747974e-01\n",
            "   1.64880574e-01 -2.18859822e-01  2.10959330e-01  6.72896951e-02\n",
            "  -1.39900327e-01  8.55631605e-02  2.95510322e-01  2.05417886e-01\n",
            "   1.01672091e-01  9.26822871e-02  8.68690535e-02  2.59423614e-01\n",
            "   1.30274698e-01  1.54911533e-01 -4.64307219e-02  3.21433663e-01\n",
            "   1.38467625e-01  2.85871699e-02 -1.34940565e-01  2.33392090e-01\n",
            "  -1.82905450e-01  3.27306390e-01  1.86146796e-01  1.25774771e-01\n",
            "   2.48900846e-01  1.49016351e-01  8.46574605e-02 -9.16362405e-02\n",
            "  -2.42585808e-01  2.27293789e-01  3.29722136e-01 -2.82598287e-01\n",
            "  -2.77510583e-01 -6.05789870e-02  6.70281947e-02 -2.50082947e-02\n",
            "   5.16311824e-02 -5.48085719e-02  2.69358963e-01 -1.36815414e-01\n",
            "  -7.30363280e-02  1.52812928e-01  2.64330387e-01 -1.89479608e-02]\n",
            " [-7.13746771e-02 -1.28207415e-01 -3.16014998e-02  1.11368880e-01\n",
            "   1.66954562e-01 -7.06705600e-02 -2.33056899e-02  2.16444850e-01\n",
            "  -1.53407576e-02  2.90382147e-01 -2.68400371e-01 -1.19357780e-01\n",
            "  -4.05356772e-02 -2.23451078e-01  1.80342391e-01 -1.01454616e-01\n",
            "   1.18357964e-01 -1.79052800e-01 -2.62852043e-01  9.02297571e-02\n",
            "  -2.16090411e-01 -1.73227876e-01 -2.75907040e-01 -2.02860355e-01\n",
            "  -1.44079760e-01  2.01446846e-01  1.07426578e-02  2.33985409e-01\n",
            "   1.78493902e-01  4.04746905e-02  2.22237229e-01  1.86831787e-01\n",
            "   1.47085920e-01 -1.09567717e-01 -1.66765913e-01  1.43991768e-01\n",
            "  -1.55385607e-03 -1.11435339e-01  2.84399986e-01  1.90852925e-01\n",
            "  -1.91768825e-01  1.92984954e-01 -8.64086598e-02  2.01139115e-02\n",
            "   5.09783737e-02 -4.95060571e-02  2.88403302e-01 -5.00708334e-02\n",
            "  -2.85727322e-01 -1.39295056e-01  8.05206522e-02 -2.23307505e-01\n",
            "  -1.63579077e-01 -1.13430932e-01 -1.77216977e-01  1.33524373e-01\n",
            "  -1.74294770e-01 -2.05350101e-01  1.36005580e-02 -2.66442269e-01\n",
            "   5.67749850e-02 -1.55957699e-01  1.62336752e-02 -1.58667654e-01]]\n",
            "\n",
            "\n",
            "Layer 2 weights shape: (64,)\n",
            "Layer 2 weights:\n",
            "[-0.02368476  0.         -0.04160959 -0.03470735  0.02430898  0.10709343\n",
            " -0.0282519  -0.06692482  0.09476557 -0.00059836  0.          0.02131809\n",
            " -0.01248282  0.08097284  0.03488403  0.         -0.0478228   0.06246132\n",
            "  0.04745921 -0.06232954  0.          0.         -0.0673993  -0.00803759\n",
            "  0.07166263 -0.03955257 -0.06311689 -0.050196    0.04948826 -0.08630849\n",
            "  0.04712727 -0.04435393 -0.00555227 -0.02064797  0.         -0.07843807\n",
            " -0.01508097  0.04251396 -0.05406008 -0.12283257  0.08932703 -0.08386258\n",
            "  0.          0.00681963 -0.05736274 -0.00775734 -0.042039   -0.04287326\n",
            " -0.05580008 -0.01368544  0.02610265  0.          0.          0.\n",
            "  0.         -0.08506426  0.          0.          0.          0.\n",
            "  0.00066532  0.00367904 -0.00983164  0.01889842]\n",
            "\n",
            "\n",
            "Layer 3 weights shape: (64, 32)\n",
            "Layer 3 weights:\n",
            "[[-0.17031161  0.27200946 -0.00201453 ... -0.05828246 -0.14397973\n",
            "   0.01177096]\n",
            " [ 0.10243148  0.04703909  0.19056666 ...  0.04490143  0.1470983\n",
            "   0.03096491]\n",
            " [-0.13524838 -0.15704398 -0.18303086 ... -0.07043243 -0.2578497\n",
            "   0.18988031]\n",
            " ...\n",
            " [-0.04492056  0.0572215   0.09250773 ... -0.15731491 -0.21684308\n",
            "  -0.06904197]\n",
            " [-0.00960069  0.13314843 -0.01693205 ... -0.22819428 -0.28983793\n",
            "   0.07471216]\n",
            " [-0.22035295  0.02290401  0.16426818 ... -0.12537627 -0.19070923\n",
            "   0.11322105]]\n",
            "\n",
            "\n",
            "Layer 4 weights shape: (32,)\n",
            "Layer 4 weights:\n",
            "[-0.05603181  0.05556801 -0.0564668  -0.05351303 -0.05569791  0.06187036\n",
            "  0.          0.         -0.04940981  0.          0.04229808 -0.04771525\n",
            "  0.05564683 -0.01833935 -0.01215993 -0.05639308  0.         -0.05623917\n",
            "  0.0006309   0.0552472   0.05538615  0.         -0.0053977   0.04875466\n",
            "  0.         -0.05489434  0.02687491 -0.05126118  0.         -0.01644439\n",
            " -0.01484014  0.        ]\n",
            "\n",
            "\n",
            "Layer 5 weights shape: (32, 1)\n",
            "Layer 5 weights:\n",
            "[[ 0.07976276]\n",
            " [-0.4132462 ]\n",
            " [ 0.12602612]\n",
            " [ 0.19524747]\n",
            " [ 0.36159223]\n",
            " [-0.03209989]\n",
            " [ 0.32317513]\n",
            " [-0.20237412]\n",
            " [ 0.2579155 ]\n",
            " [ 0.42090863]\n",
            " [-0.21125765]\n",
            " [ 0.03018412]\n",
            " [-0.2553976 ]\n",
            " [-0.33199504]\n",
            " [ 0.31709552]\n",
            " [ 0.20287001]\n",
            " [ 0.35819972]\n",
            " [ 0.22534707]\n",
            " [-0.30749968]\n",
            " [-0.33925968]\n",
            " [-0.2529694 ]\n",
            " [-0.14163086]\n",
            " [-0.15700929]\n",
            " [-0.25666037]\n",
            " [ 0.1106689 ]\n",
            " [ 0.29616392]\n",
            " [-0.01868387]\n",
            " [ 0.39204377]\n",
            " [ 0.00970069]\n",
            " [-0.35811225]\n",
            " [-0.13461627]\n",
            " [-0.17411563]]\n",
            "\n",
            "\n",
            "Layer 6 weights shape: (1,)\n",
            "Layer 6 weights:\n",
            "[-0.05573949]\n",
            "\n",
            "\n"
          ]
        }
      ]
    },
    {
      "cell_type": "markdown",
      "source": [
        "**Q14. Store the model's training history as a Pandas DataFrame.**\n"
      ],
      "metadata": {
        "id": "cY4nJPCFnREr"
      }
    },
    {
      "cell_type": "code",
      "source": [
        "import pandas as pd\n",
        "\n",
        "# Train the model and store the training history\n",
        "history = model.fit(X_train, y_train, epochs=20, batch_size=32, validation_data=(X_val, y_val))\n",
        "\n",
        "# Convert the training history to a Pandas DataFrame\n",
        "history_df = pd.DataFrame(history.history)\n",
        "\n",
        "\n"
      ],
      "metadata": {
        "id": "CLWxCt4EnUjC",
        "colab": {
          "base_uri": "https://localhost:8080/"
        },
        "outputId": "aa03e43d-3962-440e-de9d-7c08f590ece8"
      },
      "execution_count": 43,
      "outputs": [
        {
          "output_type": "stream",
          "name": "stdout",
          "text": [
            "Epoch 1/20\n",
            "40/40 [==============================] - 0s 7ms/step - loss: 0.5596 - accuracy: 0.7232 - val_loss: 0.6312 - val_accuracy: 0.6562\n",
            "Epoch 2/20\n",
            "40/40 [==============================] - 0s 7ms/step - loss: 0.5532 - accuracy: 0.7303 - val_loss: 0.5837 - val_accuracy: 0.6625\n",
            "Epoch 3/20\n",
            "40/40 [==============================] - 0s 9ms/step - loss: 0.5500 - accuracy: 0.7154 - val_loss: 0.5966 - val_accuracy: 0.7000\n",
            "Epoch 4/20\n",
            "40/40 [==============================] - 0s 7ms/step - loss: 0.5518 - accuracy: 0.7068 - val_loss: 0.5710 - val_accuracy: 0.6562\n",
            "Epoch 5/20\n",
            "40/40 [==============================] - 0s 4ms/step - loss: 0.5598 - accuracy: 0.7029 - val_loss: 0.7171 - val_accuracy: 0.6750\n",
            "Epoch 6/20\n",
            "40/40 [==============================] - 0s 4ms/step - loss: 0.5504 - accuracy: 0.7256 - val_loss: 0.6294 - val_accuracy: 0.6875\n",
            "Epoch 7/20\n",
            "40/40 [==============================] - 0s 4ms/step - loss: 0.5677 - accuracy: 0.7029 - val_loss: 0.5752 - val_accuracy: 0.6875\n",
            "Epoch 8/20\n",
            "40/40 [==============================] - 0s 4ms/step - loss: 0.5583 - accuracy: 0.7201 - val_loss: 0.5690 - val_accuracy: 0.6938\n",
            "Epoch 9/20\n",
            "40/40 [==============================] - 0s 4ms/step - loss: 0.5560 - accuracy: 0.7084 - val_loss: 0.5892 - val_accuracy: 0.6938\n",
            "Epoch 10/20\n",
            "40/40 [==============================] - 0s 4ms/step - loss: 0.5365 - accuracy: 0.7326 - val_loss: 0.5702 - val_accuracy: 0.6875\n",
            "Epoch 11/20\n",
            "40/40 [==============================] - 0s 5ms/step - loss: 0.5533 - accuracy: 0.7232 - val_loss: 0.5614 - val_accuracy: 0.6875\n",
            "Epoch 12/20\n",
            "40/40 [==============================] - 0s 4ms/step - loss: 0.5738 - accuracy: 0.7045 - val_loss: 0.5676 - val_accuracy: 0.7000\n",
            "Epoch 13/20\n",
            "40/40 [==============================] - 0s 4ms/step - loss: 0.5363 - accuracy: 0.7123 - val_loss: 0.6346 - val_accuracy: 0.6438\n",
            "Epoch 14/20\n",
            "40/40 [==============================] - 0s 4ms/step - loss: 0.5849 - accuracy: 0.6919 - val_loss: 0.6618 - val_accuracy: 0.6938\n",
            "Epoch 15/20\n",
            "40/40 [==============================] - 0s 4ms/step - loss: 0.5390 - accuracy: 0.7263 - val_loss: 0.6603 - val_accuracy: 0.6875\n",
            "Epoch 16/20\n",
            "40/40 [==============================] - 0s 4ms/step - loss: 0.5428 - accuracy: 0.7240 - val_loss: 0.5843 - val_accuracy: 0.6687\n",
            "Epoch 17/20\n",
            "40/40 [==============================] - 0s 4ms/step - loss: 0.5677 - accuracy: 0.7068 - val_loss: 0.6246 - val_accuracy: 0.6875\n",
            "Epoch 18/20\n",
            "40/40 [==============================] - 0s 4ms/step - loss: 0.5368 - accuracy: 0.7279 - val_loss: 0.6127 - val_accuracy: 0.6875\n",
            "Epoch 19/20\n",
            "40/40 [==============================] - 0s 4ms/step - loss: 0.5394 - accuracy: 0.7381 - val_loss: 0.6420 - val_accuracy: 0.7000\n",
            "Epoch 20/20\n",
            "40/40 [==============================] - 0s 4ms/step - loss: 0.5322 - accuracy: 0.7170 - val_loss: 0.5755 - val_accuracy: 0.6812\n"
          ]
        }
      ]
    },
    {
      "cell_type": "markdown",
      "source": [
        "**Q15. Plot the training history (e.g., accuracy and loss) using suitable visualization techniques.**\n"
      ],
      "metadata": {
        "id": "euPGl9hqnVCC"
      }
    },
    {
      "cell_type": "code",
      "source": [
        "import matplotlib.pyplot as plt\n",
        "\n",
        "# Train the model and store the training history\n",
        "history = model.fit(X_train, y_train, epochs=20, batch_size=32, validation_data=(X_val, y_val))\n",
        "\n",
        "# Get the training history\n",
        "history_dict = history.history\n",
        "\n",
        "# Plot training and validation accuracy values\n",
        "plt.figure(figsize=(12, 6))\n",
        "plt.subplot(1, 2, 1)\n",
        "plt.plot(history_dict['accuracy'], label='Training Accuracy')\n",
        "plt.plot(history_dict['val_accuracy'], label='Validation Accuracy')\n",
        "plt.title('Training and Validation Accuracy')\n",
        "plt.xlabel('Epoch')\n",
        "plt.ylabel('Accuracy')\n",
        "plt.legend()\n",
        "\n",
        "# Plot training and validation loss values\n",
        "plt.subplot(1, 2, 2)\n",
        "plt.plot(history_dict['loss'], label='Training Loss')\n",
        "plt.plot(history_dict['val_loss'], label='Validation Loss')\n",
        "plt.title('Training and Validation Loss')\n",
        "plt.xlabel('Epoch')\n",
        "plt.ylabel('Loss')\n",
        "plt.legend()\n",
        "\n",
        "# Display the plots\n",
        "plt.tight_layout()\n",
        "plt.show()\n"
      ],
      "metadata": {
        "id": "-0yIX1ymna3U",
        "colab": {
          "base_uri": "https://localhost:8080/",
          "height": 1000
        },
        "outputId": "e04e6fdb-a364-48a1-effb-6680a1247351"
      },
      "execution_count": 44,
      "outputs": [
        {
          "output_type": "stream",
          "name": "stdout",
          "text": [
            "Epoch 1/20\n",
            "40/40 [==============================] - 1s 14ms/step - loss: 0.5252 - accuracy: 0.7365 - val_loss: 0.5633 - val_accuracy: 0.6938\n",
            "Epoch 2/20\n",
            "40/40 [==============================] - 0s 4ms/step - loss: 0.5287 - accuracy: 0.7389 - val_loss: 0.5667 - val_accuracy: 0.7000\n",
            "Epoch 3/20\n",
            "40/40 [==============================] - 0s 4ms/step - loss: 0.5367 - accuracy: 0.7263 - val_loss: 0.5457 - val_accuracy: 0.6875\n",
            "Epoch 4/20\n",
            "40/40 [==============================] - 0s 4ms/step - loss: 0.5393 - accuracy: 0.7271 - val_loss: 0.5422 - val_accuracy: 0.6875\n",
            "Epoch 5/20\n",
            "40/40 [==============================] - 0s 4ms/step - loss: 0.5450 - accuracy: 0.7381 - val_loss: 0.5790 - val_accuracy: 0.6875\n",
            "Epoch 6/20\n",
            "40/40 [==============================] - 0s 4ms/step - loss: 0.6003 - accuracy: 0.6982 - val_loss: 0.5575 - val_accuracy: 0.6938\n",
            "Epoch 7/20\n",
            "40/40 [==============================] - 0s 4ms/step - loss: 0.5348 - accuracy: 0.7201 - val_loss: 0.5681 - val_accuracy: 0.6938\n",
            "Epoch 8/20\n",
            "40/40 [==============================] - 0s 4ms/step - loss: 0.5219 - accuracy: 0.7334 - val_loss: 0.5417 - val_accuracy: 0.6687\n",
            "Epoch 9/20\n",
            "40/40 [==============================] - 0s 4ms/step - loss: 0.5512 - accuracy: 0.7279 - val_loss: 0.5470 - val_accuracy: 0.7125\n",
            "Epoch 10/20\n",
            "40/40 [==============================] - 0s 5ms/step - loss: 0.5264 - accuracy: 0.7310 - val_loss: 0.5566 - val_accuracy: 0.7063\n",
            "Epoch 11/20\n",
            "40/40 [==============================] - 0s 6ms/step - loss: 0.5299 - accuracy: 0.7295 - val_loss: 0.5488 - val_accuracy: 0.7125\n",
            "Epoch 12/20\n",
            "40/40 [==============================] - 0s 5ms/step - loss: 0.5289 - accuracy: 0.7318 - val_loss: 0.5642 - val_accuracy: 0.6938\n",
            "Epoch 13/20\n",
            "40/40 [==============================] - 0s 6ms/step - loss: 0.5291 - accuracy: 0.7279 - val_loss: 0.5747 - val_accuracy: 0.7063\n",
            "Epoch 14/20\n",
            "40/40 [==============================] - 0s 6ms/step - loss: 0.5260 - accuracy: 0.7349 - val_loss: 0.5764 - val_accuracy: 0.6938\n",
            "Epoch 15/20\n",
            "40/40 [==============================] - 0s 6ms/step - loss: 0.5133 - accuracy: 0.7459 - val_loss: 0.5655 - val_accuracy: 0.6875\n",
            "Epoch 16/20\n",
            "40/40 [==============================] - 0s 6ms/step - loss: 0.5488 - accuracy: 0.7279 - val_loss: 0.6093 - val_accuracy: 0.6875\n",
            "Epoch 17/20\n",
            "40/40 [==============================] - 0s 5ms/step - loss: 0.5146 - accuracy: 0.7498 - val_loss: 0.5462 - val_accuracy: 0.7000\n",
            "Epoch 18/20\n",
            "40/40 [==============================] - 0s 5ms/step - loss: 0.5153 - accuracy: 0.7381 - val_loss: 0.5902 - val_accuracy: 0.7000\n",
            "Epoch 19/20\n",
            "40/40 [==============================] - 0s 6ms/step - loss: 0.5182 - accuracy: 0.7389 - val_loss: 0.5589 - val_accuracy: 0.6938\n",
            "Epoch 20/20\n",
            "40/40 [==============================] - 0s 7ms/step - loss: 0.5503 - accuracy: 0.7201 - val_loss: 0.5722 - val_accuracy: 0.7063\n"
          ]
        },
        {
          "output_type": "display_data",
          "data": {
            "text/plain": [
              "<Figure size 1200x600 with 2 Axes>"
            ],
            "image/png": "[encoded data removed]"
          },
          "metadata": {}
        }
      ]
    },
    {
      "cell_type": "markdown",
      "source": [
        "**Q16. Evaluate the model's performance using the test dataset and report relevant metrics.**"
      ],
      "metadata": {
        "id": "LGrgL7MQnYBC"
      }
    },
    {
      "cell_type": "code",
      "source": [
        "# Evaluate the model on the test set\n",
        "test_loss, test_accuracy = model.evaluate(X_test, y_test)\n",
        "\n",
        "# Print the evaluation results\n",
        "print(f\"Test Loss: {test_loss:.4f}\")\n",
        "print(f\"Test Accuracy: {test_accuracy*100:.2f}%\")\n"
      ],
      "metadata": {
        "id": "xydKYpPnnc50",
        "colab": {
          "base_uri": "https://localhost:8080/"
        },
        "outputId": "553ec005-a408-4805-c966-29add076c626"
      },
      "execution_count": 45,
      "outputs": [
        {
          "output_type": "stream",
          "name": "stdout",
          "text": [
            "5/5 [==============================] - 0s 4ms/step - loss: 0.5464 - accuracy: 0.6938\n",
            "Test Loss: 0.5464\n",
            "Test Accuracy: 69.38%\n"
          ]
        }
      ]
    }
  ]
}